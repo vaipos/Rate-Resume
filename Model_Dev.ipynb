{
 "cells": [
  {
   "cell_type": "code",
   "execution_count": 1,
   "metadata": {},
   "outputs": [],
   "source": [
    "import pandas as pd\n",
    "\n",
    "df = pd.read_csv('cleaned_data.csv')"
   ]
  },
  {
   "cell_type": "code",
   "execution_count": 2,
   "metadata": {},
   "outputs": [
    {
     "data": {
      "text/html": [
       "<div>\n",
       "<style scoped>\n",
       "    .dataframe tbody tr th:only-of-type {\n",
       "        vertical-align: middle;\n",
       "    }\n",
       "\n",
       "    .dataframe tbody tr th {\n",
       "        vertical-align: top;\n",
       "    }\n",
       "\n",
       "    .dataframe thead th {\n",
       "        text-align: right;\n",
       "    }\n",
       "</style>\n",
       "<table border=\"1\" class=\"dataframe\">\n",
       "  <thead>\n",
       "    <tr style=\"text-align: right;\">\n",
       "      <th></th>\n",
       "      <th>Unnamed: 0</th>\n",
       "      <th>embedded</th>\n",
       "      <th>label</th>\n",
       "    </tr>\n",
       "  </thead>\n",
       "  <tbody>\n",
       "    <tr>\n",
       "      <th>0</th>\n",
       "      <td>0</td>\n",
       "      <td>[-5.96681118e-01  4.11902845e-01 -3.08486857e-...</td>\n",
       "      <td>1</td>\n",
       "    </tr>\n",
       "    <tr>\n",
       "      <th>1</th>\n",
       "      <td>1</td>\n",
       "      <td>[-6.81407630e-01  4.91403908e-01 -1.21448785e-...</td>\n",
       "      <td>1</td>\n",
       "    </tr>\n",
       "    <tr>\n",
       "      <th>2</th>\n",
       "      <td>2</td>\n",
       "      <td>[-5.65098464e-01  5.53117573e-01 -3.84215899e-...</td>\n",
       "      <td>1</td>\n",
       "    </tr>\n",
       "    <tr>\n",
       "      <th>3</th>\n",
       "      <td>3</td>\n",
       "      <td>[-3.87674928e-01  2.98460498e-02  2.36579791e-...</td>\n",
       "      <td>1</td>\n",
       "    </tr>\n",
       "    <tr>\n",
       "      <th>4</th>\n",
       "      <td>4</td>\n",
       "      <td>[-3.86169583e-01  3.35951298e-01 -1.87801272e-...</td>\n",
       "      <td>1</td>\n",
       "    </tr>\n",
       "    <tr>\n",
       "      <th>...</th>\n",
       "      <td>...</td>\n",
       "      <td>...</td>\n",
       "      <td>...</td>\n",
       "    </tr>\n",
       "    <tr>\n",
       "      <th>11610</th>\n",
       "      <td>11610</td>\n",
       "      <td>[-8.07900906e-01  3.43788892e-01  8.81809518e-...</td>\n",
       "      <td>0</td>\n",
       "    </tr>\n",
       "    <tr>\n",
       "      <th>11611</th>\n",
       "      <td>11611</td>\n",
       "      <td>[-9.04891670e-01  2.89417118e-01 -2.94612855e-...</td>\n",
       "      <td>0</td>\n",
       "    </tr>\n",
       "    <tr>\n",
       "      <th>11612</th>\n",
       "      <td>11612</td>\n",
       "      <td>[-6.90551698e-01  1.35520011e-01 -2.52938084e-...</td>\n",
       "      <td>0</td>\n",
       "    </tr>\n",
       "    <tr>\n",
       "      <th>11613</th>\n",
       "      <td>11613</td>\n",
       "      <td>[-7.32276261e-01  5.08924425e-01 -2.66482718e-...</td>\n",
       "      <td>0</td>\n",
       "    </tr>\n",
       "    <tr>\n",
       "      <th>11614</th>\n",
       "      <td>11614</td>\n",
       "      <td>[-7.33249187e-01  6.68394983e-01 -2.37192623e-...</td>\n",
       "      <td>0</td>\n",
       "    </tr>\n",
       "  </tbody>\n",
       "</table>\n",
       "<p>11615 rows × 3 columns</p>\n",
       "</div>"
      ],
      "text/plain": [
       "       Unnamed: 0                                           embedded  label\n",
       "0               0  [-5.96681118e-01  4.11902845e-01 -3.08486857e-...      1\n",
       "1               1  [-6.81407630e-01  4.91403908e-01 -1.21448785e-...      1\n",
       "2               2  [-5.65098464e-01  5.53117573e-01 -3.84215899e-...      1\n",
       "3               3  [-3.87674928e-01  2.98460498e-02  2.36579791e-...      1\n",
       "4               4  [-3.86169583e-01  3.35951298e-01 -1.87801272e-...      1\n",
       "...           ...                                                ...    ...\n",
       "11610       11610  [-8.07900906e-01  3.43788892e-01  8.81809518e-...      0\n",
       "11611       11611  [-9.04891670e-01  2.89417118e-01 -2.94612855e-...      0\n",
       "11612       11612  [-6.90551698e-01  1.35520011e-01 -2.52938084e-...      0\n",
       "11613       11613  [-7.32276261e-01  5.08924425e-01 -2.66482718e-...      0\n",
       "11614       11614  [-7.33249187e-01  6.68394983e-01 -2.37192623e-...      0\n",
       "\n",
       "[11615 rows x 3 columns]"
      ]
     },
     "execution_count": 2,
     "metadata": {},
     "output_type": "execute_result"
    }
   ],
   "source": [
    "df"
   ]
  },
  {
   "cell_type": "code",
   "execution_count": 3,
   "metadata": {},
   "outputs": [],
   "source": [
    "df = df.drop('Unnamed: 0', axis=1)"
   ]
  },
  {
   "cell_type": "code",
   "execution_count": 4,
   "metadata": {},
   "outputs": [
    {
     "data": {
      "text/html": [
       "<div>\n",
       "<style scoped>\n",
       "    .dataframe tbody tr th:only-of-type {\n",
       "        vertical-align: middle;\n",
       "    }\n",
       "\n",
       "    .dataframe tbody tr th {\n",
       "        vertical-align: top;\n",
       "    }\n",
       "\n",
       "    .dataframe thead th {\n",
       "        text-align: right;\n",
       "    }\n",
       "</style>\n",
       "<table border=\"1\" class=\"dataframe\">\n",
       "  <thead>\n",
       "    <tr style=\"text-align: right;\">\n",
       "      <th></th>\n",
       "      <th>embedded</th>\n",
       "      <th>label</th>\n",
       "    </tr>\n",
       "  </thead>\n",
       "  <tbody>\n",
       "    <tr>\n",
       "      <th>0</th>\n",
       "      <td>[-5.96681118e-01  4.11902845e-01 -3.08486857e-...</td>\n",
       "      <td>1</td>\n",
       "    </tr>\n",
       "    <tr>\n",
       "      <th>1</th>\n",
       "      <td>[-6.81407630e-01  4.91403908e-01 -1.21448785e-...</td>\n",
       "      <td>1</td>\n",
       "    </tr>\n",
       "    <tr>\n",
       "      <th>2</th>\n",
       "      <td>[-5.65098464e-01  5.53117573e-01 -3.84215899e-...</td>\n",
       "      <td>1</td>\n",
       "    </tr>\n",
       "    <tr>\n",
       "      <th>3</th>\n",
       "      <td>[-3.87674928e-01  2.98460498e-02  2.36579791e-...</td>\n",
       "      <td>1</td>\n",
       "    </tr>\n",
       "    <tr>\n",
       "      <th>4</th>\n",
       "      <td>[-3.86169583e-01  3.35951298e-01 -1.87801272e-...</td>\n",
       "      <td>1</td>\n",
       "    </tr>\n",
       "    <tr>\n",
       "      <th>...</th>\n",
       "      <td>...</td>\n",
       "      <td>...</td>\n",
       "    </tr>\n",
       "    <tr>\n",
       "      <th>11610</th>\n",
       "      <td>[-8.07900906e-01  3.43788892e-01  8.81809518e-...</td>\n",
       "      <td>0</td>\n",
       "    </tr>\n",
       "    <tr>\n",
       "      <th>11611</th>\n",
       "      <td>[-9.04891670e-01  2.89417118e-01 -2.94612855e-...</td>\n",
       "      <td>0</td>\n",
       "    </tr>\n",
       "    <tr>\n",
       "      <th>11612</th>\n",
       "      <td>[-6.90551698e-01  1.35520011e-01 -2.52938084e-...</td>\n",
       "      <td>0</td>\n",
       "    </tr>\n",
       "    <tr>\n",
       "      <th>11613</th>\n",
       "      <td>[-7.32276261e-01  5.08924425e-01 -2.66482718e-...</td>\n",
       "      <td>0</td>\n",
       "    </tr>\n",
       "    <tr>\n",
       "      <th>11614</th>\n",
       "      <td>[-7.33249187e-01  6.68394983e-01 -2.37192623e-...</td>\n",
       "      <td>0</td>\n",
       "    </tr>\n",
       "  </tbody>\n",
       "</table>\n",
       "<p>11615 rows × 2 columns</p>\n",
       "</div>"
      ],
      "text/plain": [
       "                                                embedded  label\n",
       "0      [-5.96681118e-01  4.11902845e-01 -3.08486857e-...      1\n",
       "1      [-6.81407630e-01  4.91403908e-01 -1.21448785e-...      1\n",
       "2      [-5.65098464e-01  5.53117573e-01 -3.84215899e-...      1\n",
       "3      [-3.87674928e-01  2.98460498e-02  2.36579791e-...      1\n",
       "4      [-3.86169583e-01  3.35951298e-01 -1.87801272e-...      1\n",
       "...                                                  ...    ...\n",
       "11610  [-8.07900906e-01  3.43788892e-01  8.81809518e-...      0\n",
       "11611  [-9.04891670e-01  2.89417118e-01 -2.94612855e-...      0\n",
       "11612  [-6.90551698e-01  1.35520011e-01 -2.52938084e-...      0\n",
       "11613  [-7.32276261e-01  5.08924425e-01 -2.66482718e-...      0\n",
       "11614  [-7.33249187e-01  6.68394983e-01 -2.37192623e-...      0\n",
       "\n",
       "[11615 rows x 2 columns]"
      ]
     },
     "execution_count": 4,
     "metadata": {},
     "output_type": "execute_result"
    }
   ],
   "source": [
    "df"
   ]
  },
  {
   "cell_type": "code",
   "execution_count": 5,
   "metadata": {},
   "outputs": [
    {
     "data": {
      "text/plain": [
       "label\n",
       "1    5828\n",
       "0    5787\n",
       "Name: count, dtype: int64"
      ]
     },
     "execution_count": 5,
     "metadata": {},
     "output_type": "execute_result"
    }
   ],
   "source": [
    "df['label'].value_counts()"
   ]
  },
  {
   "cell_type": "code",
   "execution_count": 6,
   "metadata": {},
   "outputs": [],
   "source": [
    "import pandas as pd\n",
    "import numpy as np\n",
    "import ast\n",
    "import re\n",
    "\n",
    "# Define a cleanup function\n",
    "def fix_and_eval(vector_str):\n",
    "    try:\n",
    "        # Insert missing commas between adjacent numbers using regex\n",
    "        cleaned_str = re.sub(r'(?<=[\\deE])\\s+(?=[\\-\\d])', ', ', vector_str.strip())\n",
    "        return np.array(ast.literal_eval(cleaned_str))\n",
    "    except Exception as e:\n",
    "        print(\"Error parsing:\", vector_str[:100], \"\\nError:\", e)\n",
    "        return np.nan\n",
    "\n",
    "# Apply the cleanup function\n",
    "df['embedded'] = df['embedded'].apply(fix_and_eval)\n",
    "\n",
    "# Optional: drop rows with failed parsing\n",
    "df = df.dropna(subset=['embedded'])\n",
    "from sklearn.model_selection import train_test_split\n",
    "\n",
    "X = np.stack(df['embedded'].values)\n",
    "y = df['label'].values\n"
   ]
  },
  {
   "cell_type": "code",
   "execution_count": 7,
   "metadata": {},
   "outputs": [],
   "source": [
    "import numpy as np\n",
    "import matplotlib.pyplot as plt\n",
    "from sklearn.linear_model import LogisticRegression\n",
    "from sklearn.model_selection import train_test_split\n",
    "from sklearn.preprocessing import StandardScaler\n",
    "from sklearn.metrics import log_loss, roc_curve, auc\n",
    "\n",
    "# Example Data (Use your own dataset here)\n",
    "# X, y = your_data\n",
    "\n",
    "# Split data\n",
    "X_train, X_test, y_train, y_test = train_test_split(X, y, test_size=0.2, random_state=42)\n",
    "\n",
    "# Normalize features\n",
    "scaler = StandardScaler()\n",
    "X_train = scaler.fit_transform(X_train)\n",
    "X_test = scaler.transform(X_test)"
   ]
  },
  {
   "cell_type": "markdown",
   "metadata": {},
   "source": [
    "# Model Development"
   ]
  },
  {
   "cell_type": "markdown",
   "metadata": {},
   "source": [
    "## Logistic Regression"
   ]
  },
  {
   "cell_type": "code",
   "execution_count": 8,
   "metadata": {},
   "outputs": [],
   "source": [
    "from sklearn.linear_model import LogisticRegression\n",
    "from sklearn.metrics import accuracy_score, precision_score, recall_score, f1_score\n",
    "\n",
    "def train_logistic_regression(X_train, y_train, X_test, y_test):\n",
    "    model = LogisticRegression(max_iter=1000, solver='lbfgs')\n",
    "    model.fit(X_train, y_train)\n",
    "    y_pred = model.predict(X_test)\n",
    "\n",
    "    print(\"Accuracy:\", accuracy_score(y_test, y_pred))\n",
    "    print(\"Precision:\", precision_score(y_test, y_pred))\n",
    "    print(\"Recall:\", recall_score(y_test, y_pred))\n",
    "    print(\"F1 Score:\", f1_score(y_test, y_pred))\n",
    "    \n",
    "    return model, y_pred\n"
   ]
  },
  {
   "cell_type": "code",
   "execution_count": 9,
   "metadata": {},
   "outputs": [],
   "source": [
    "import matplotlib.pyplot as plt\n",
    "from sklearn.metrics import roc_curve, auc\n",
    "\n",
    "def plot_roc_curve(model, X_test, y_test):\n",
    "    y_prob = model.predict_proba(X_test)[:, 1]  # Probabilities for class 1\n",
    "    fpr, tpr, thresholds = roc_curve(y_test, y_prob)\n",
    "    roc_auc = auc(fpr, tpr)\n",
    "\n",
    "\n",
    "    plt.figure(figsize=(6, 6))\n",
    "    plt.plot(fpr, tpr, color='darkorange', lw=2, label=f'ROC curve (AUC = {roc_auc:.2f})')\n",
    "    plt.plot([0, 1], [0, 1], color='navy', lw=2, linestyle='--')  # Diagonal\n",
    "    plt.xlim([0.0, 1.0])\n",
    "    plt.ylim([0.0, 1.05])\n",
    "    plt.xlabel('False Positive Rate')\n",
    "    plt.ylabel('True Positive Rate')\n",
    "    plt.title('Receiver Operating Characteristic')\n",
    "    plt.legend(loc=\"lower right\")\n",
    "    plt.grid(True)\n",
    "    plt.show()\n"
   ]
  },
  {
   "cell_type": "code",
   "execution_count": 10,
   "metadata": {},
   "outputs": [
    {
     "name": "stdout",
     "output_type": "stream",
     "text": [
      "Accuracy: 0.5208781747739991\n",
      "Precision: 0.533167495854063\n",
      "Recall: 0.5389773679798826\n",
      "F1 Score: 0.5360566902876198\n"
     ]
    },
    {
     "data": {
      "image/png": "[encoded data removed]",
      "text/plain": [
       "<Figure size 600x600 with 1 Axes>"
      ]
     },
     "metadata": {},
     "output_type": "display_data"
    }
   ],
   "source": [
    "model, y_pred = train_logistic_regression(X_train, y_train, X_test, y_test)\n",
    "plot_roc_curve(model, X_test, y_test)\n"
   ]
  },
  {
   "cell_type": "markdown",
   "metadata": {},
   "source": [
    "## SVM"
   ]
  },
  {
   "cell_type": "code",
   "execution_count": 11,
   "metadata": {},
   "outputs": [
    {
     "name": "stdout",
     "output_type": "stream",
     "text": [
      "Fold 1 - AUC: 0.51\n",
      "Fold 2 - AUC: 0.50\n",
      "Fold 3 - AUC: 0.50\n",
      "Fold 4 - AUC: 0.50\n",
      "Fold 5 - AUC: 0.50\n",
      "\n",
      "Average Metrics Across Folds:\n",
      "Accuracy: 0.49\n",
      "Precision: 0.49\n",
      "Recall: 0.51\n",
      "F1 Score: 0.50\n",
      "ROC AUC: 0.50\n"
     ]
    },
    {
     "data": {
      "image/png": "[encoded data removed]",
      "text/plain": [
       "<Figure size 800x600 with 1 Axes>"
      ]
     },
     "metadata": {},
     "output_type": "display_data"
    }
   ],
   "source": [
    "import numpy as np\n",
    "import matplotlib.pyplot as plt\n",
    "from sklearn.svm import SVC\n",
    "from sklearn.model_selection import StratifiedKFold\n",
    "from sklearn.preprocessing import StandardScaler\n",
    "from sklearn.metrics import (\n",
    "    accuracy_score, precision_score, recall_score, f1_score, roc_curve, auc\n",
    ")\n",
    "\n",
    "# Example Data (use your actual dataset)\n",
    "# X, y = your_data\n",
    "\n",
    "# Set number of folds\n",
    "k = 5\n",
    "skf = StratifiedKFold(n_splits=k, shuffle=True, random_state=42)\n",
    "\n",
    "# Initialize metric containers\n",
    "accuracies = []\n",
    "precisions = []\n",
    "recalls = []\n",
    "f1_scores = []\n",
    "roc_aucs = []\n",
    "\n",
    "mean_fpr = np.linspace(0, 1, 100)\n",
    "tprs = []\n",
    "\n",
    "# K-Fold Cross Validation\n",
    "for fold, (train_idx, test_idx) in enumerate(skf.split(X, y), 1):\n",
    "    X_train, X_test = X[train_idx], X[test_idx]\n",
    "    y_train, y_test = y[train_idx], y[test_idx]\n",
    "\n",
    "    # Normalize features within the fold\n",
    "    scaler = StandardScaler()\n",
    "    X_train = scaler.fit_transform(X_train)\n",
    "    X_test = scaler.transform(X_test)\n",
    "\n",
    "    # Train SVM\n",
    "    svm = SVC(kernel='linear', probability=True, random_state=42)\n",
    "    svm.fit(X_train, y_train)\n",
    "\n",
    "    # Predictions\n",
    "    y_pred = svm.predict(X_test)\n",
    "    y_prob = svm.predict_proba(X_test)[:, 1]\n",
    "\n",
    "    # Store metrics\n",
    "    accuracies.append(accuracy_score(y_test, y_pred))\n",
    "    precisions.append(precision_score(y_test, y_pred))\n",
    "    recalls.append(recall_score(y_test, y_pred))\n",
    "    f1_scores.append(f1_score(y_test, y_pred))\n",
    "\n",
    "    # ROC Curve\n",
    "    fpr, tpr, _ = roc_curve(y_test, y_prob)\n",
    "    roc_auc = auc(fpr, tpr)\n",
    "    roc_aucs.append(roc_auc)\n",
    "\n",
    "    # Interpolate ROC curve\n",
    "    tpr_interp = np.interp(mean_fpr, fpr, tpr)\n",
    "    tpr_interp[0] = 0.0\n",
    "    tprs.append(tpr_interp)\n",
    "\n",
    "    print(f\"Fold {fold} - AUC: {roc_auc:.2f}\")\n",
    "\n",
    "# Average metrics\n",
    "print(\"\\nAverage Metrics Across Folds:\")\n",
    "print(f\"Accuracy: {np.mean(accuracies):.2f}\")\n",
    "print(f\"Precision: {np.mean(precisions):.2f}\")\n",
    "print(f\"Recall: {np.mean(recalls):.2f}\")\n",
    "print(f\"F1 Score: {np.mean(f1_scores):.2f}\")\n",
    "print(f\"ROC AUC: {np.mean(roc_aucs):.2f}\")\n",
    "\n",
    "# Plot mean ROC curve\n",
    "mean_tpr = np.mean(tprs, axis=0)\n",
    "mean_tpr[-1] = 1.0\n",
    "mean_auc = auc(mean_fpr, mean_tpr)\n",
    "\n",
    "plt.figure(figsize=(8, 6))\n",
    "plt.plot(mean_fpr, mean_tpr, color='green', label=f'Mean ROC (AUC = {mean_auc:.2f})', lw=2)\n",
    "plt.plot([0, 1], [0, 1], linestyle='--', color='gray', lw=2)\n",
    "plt.xlabel('False Positive Rate')\n",
    "plt.ylabel('True Positive Rate')\n",
    "plt.title(f'{k}-Fold Cross-Validated ROC Curve for SVM')\n",
    "plt.legend(loc='lower right')\n",
    "plt.grid(True)\n",
    "plt.show()\n"
   ]
  },
  {
   "cell_type": "markdown",
   "metadata": {},
   "source": [
    "## Decision Tree"
   ]
  },
  {
   "cell_type": "markdown",
   "metadata": {},
   "source": [
    "## Naive Bayes"
   ]
  },
  {
   "cell_type": "markdown",
   "metadata": {},
   "source": [
    "## Neural Networks"
   ]
  },
  {
   "cell_type": "markdown",
   "metadata": {},
   "source": [
    "## Bagging - with top 3 performing models"
   ]
  },
  {
   "cell_type": "markdown",
   "metadata": {},
   "source": [
    "## Boosting - Gradient Boosting "
   ]
  },
  {
   "cell_type": "markdown",
   "metadata": {},
   "source": [
    "# ROC Curve Analysis"
   ]
  },
  {
   "cell_type": "markdown",
   "metadata": {},
   "source": [
    "## Graphing"
   ]
  },
  {
   "cell_type": "markdown",
   "metadata": {},
   "source": [
    "## Analyzing"
   ]
  },
  {
   "cell_type": "markdown",
   "metadata": {},
   "source": [
    "# Evaluation Functions"
   ]
  },
  {
   "cell_type": "markdown",
   "metadata": {},
   "source": [
    "## Confusion Matrix"
   ]
  },
  {
   "cell_type": "markdown",
   "metadata": {},
   "source": [
    "## F-1 Precision Recall"
   ]
  },
  {
   "cell_type": "markdown",
   "metadata": {},
   "source": []
  }
 ],
 "metadata": {
  "kernelspec": {
   "display_name": "Python 3.12.0 ('bb_dev')",
   "language": "python",
   "name": "python3"
  },
  "language_info": {
   "codemirror_mode": {
    "name": "ipython",
    "version": 3
   },
   "file_extension": ".py",
   "mimetype": "text/x-python",
   "name": "python",
   "nbconvert_exporter": "python",
   "pygments_lexer": "ipython3",
   "version": "3.12.0"
  },
  "orig_nbformat": 4,
  "vscode": {
   "interpreter": {
    "hash": "6615c424cc394d958ad4d7f8624dc4aa53b0cc7a8d7d4d2973e794607b80fa0d"
   }
  }
 },
 "nbformat": 4,
 "nbformat_minor": 2
}
