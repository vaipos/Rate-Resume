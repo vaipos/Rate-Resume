{
 "cells": [
  {
   "cell_type": "code",
   "execution_count": 1,
   "metadata": {},
   "outputs": [
    {
     "name": "stdout",
     "output_type": "stream",
     "text": [
      "Requirement already satisfied: pandas in /Users/vaishtaruni/anaconda3/envs/vaishML/lib/python3.12/site-packages (2.2.2)\n",
      "Requirement already satisfied: numpy>=1.26.0 in /Users/vaishtaruni/anaconda3/envs/vaishML/lib/python3.12/site-packages (from pandas) (1.26.3)\n",
      "Requirement already satisfied: python-dateutil>=2.8.2 in /Users/vaishtaruni/anaconda3/envs/vaishML/lib/python3.12/site-packages (from pandas) (2.8.2)\n",
      "Requirement already satisfied: pytz>=2020.1 in /Users/vaishtaruni/anaconda3/envs/vaishML/lib/python3.12/site-packages (from pandas) (2024.2)\n",
      "Requirement already satisfied: tzdata>=2022.7 in /Users/vaishtaruni/anaconda3/envs/vaishML/lib/python3.12/site-packages (from pandas) (2024.1)\n",
      "Requirement already satisfied: six>=1.5 in /Users/vaishtaruni/anaconda3/envs/vaishML/lib/python3.12/site-packages (from python-dateutil>=2.8.2->pandas) (1.16.0)\n"
     ]
    }
   ],
   "source": [
    "!pip install pandas"
   ]
  },
  {
   "cell_type": "code",
   "execution_count": 2,
   "metadata": {},
   "outputs": [],
   "source": [
    "import pandas as pd\n",
    "\n",
    "df = pd.read_csv('cleaned_data.csv')"
   ]
  },
  {
   "cell_type": "code",
   "execution_count": 3,
   "metadata": {},
   "outputs": [
    {
     "data": {
      "text/html": [
       "<div>\n",
       "<style scoped>\n",
       "    .dataframe tbody tr th:only-of-type {\n",
       "        vertical-align: middle;\n",
       "    }\n",
       "\n",
       "    .dataframe tbody tr th {\n",
       "        vertical-align: top;\n",
       "    }\n",
       "\n",
       "    .dataframe thead th {\n",
       "        text-align: right;\n",
       "    }\n",
       "</style>\n",
       "<table border=\"1\" class=\"dataframe\">\n",
       "  <thead>\n",
       "    <tr style=\"text-align: right;\">\n",
       "      <th></th>\n",
       "      <th>Unnamed: 0</th>\n",
       "      <th>embedded</th>\n",
       "      <th>label</th>\n",
       "    </tr>\n",
       "  </thead>\n",
       "  <tbody>\n",
       "    <tr>\n",
       "      <th>0</th>\n",
       "      <td>0</td>\n",
       "      <td>[-5.96681118e-01  4.11902845e-01 -3.08486857e-...</td>\n",
       "      <td>1</td>\n",
       "    </tr>\n",
       "    <tr>\n",
       "      <th>1</th>\n",
       "      <td>1</td>\n",
       "      <td>[-6.81407630e-01  4.91403908e-01 -1.21448785e-...</td>\n",
       "      <td>1</td>\n",
       "    </tr>\n",
       "    <tr>\n",
       "      <th>2</th>\n",
       "      <td>2</td>\n",
       "      <td>[-5.65098464e-01  5.53117573e-01 -3.84215899e-...</td>\n",
       "      <td>1</td>\n",
       "    </tr>\n",
       "    <tr>\n",
       "      <th>3</th>\n",
       "      <td>3</td>\n",
       "      <td>[-3.87674928e-01  2.98460498e-02  2.36579791e-...</td>\n",
       "      <td>1</td>\n",
       "    </tr>\n",
       "    <tr>\n",
       "      <th>4</th>\n",
       "      <td>4</td>\n",
       "      <td>[-3.86169583e-01  3.35951298e-01 -1.87801272e-...</td>\n",
       "      <td>1</td>\n",
       "    </tr>\n",
       "    <tr>\n",
       "      <th>...</th>\n",
       "      <td>...</td>\n",
       "      <td>...</td>\n",
       "      <td>...</td>\n",
       "    </tr>\n",
       "    <tr>\n",
       "      <th>11610</th>\n",
       "      <td>11610</td>\n",
       "      <td>[-8.07900906e-01  3.43788892e-01  8.81809518e-...</td>\n",
       "      <td>0</td>\n",
       "    </tr>\n",
       "    <tr>\n",
       "      <th>11611</th>\n",
       "      <td>11611</td>\n",
       "      <td>[-9.04891670e-01  2.89417118e-01 -2.94612855e-...</td>\n",
       "      <td>0</td>\n",
       "    </tr>\n",
       "    <tr>\n",
       "      <th>11612</th>\n",
       "      <td>11612</td>\n",
       "      <td>[-6.90551698e-01  1.35520011e-01 -2.52938084e-...</td>\n",
       "      <td>0</td>\n",
       "    </tr>\n",
       "    <tr>\n",
       "      <th>11613</th>\n",
       "      <td>11613</td>\n",
       "      <td>[-7.32276261e-01  5.08924425e-01 -2.66482718e-...</td>\n",
       "      <td>0</td>\n",
       "    </tr>\n",
       "    <tr>\n",
       "      <th>11614</th>\n",
       "      <td>11614</td>\n",
       "      <td>[-7.33249187e-01  6.68394983e-01 -2.37192623e-...</td>\n",
       "      <td>0</td>\n",
       "    </tr>\n",
       "  </tbody>\n",
       "</table>\n",
       "<p>11615 rows × 3 columns</p>\n",
       "</div>"
      ],
      "text/plain": [
       "       Unnamed: 0                                           embedded  label\n",
       "0               0  [-5.96681118e-01  4.11902845e-01 -3.08486857e-...      1\n",
       "1               1  [-6.81407630e-01  4.91403908e-01 -1.21448785e-...      1\n",
       "2               2  [-5.65098464e-01  5.53117573e-01 -3.84215899e-...      1\n",
       "3               3  [-3.87674928e-01  2.98460498e-02  2.36579791e-...      1\n",
       "4               4  [-3.86169583e-01  3.35951298e-01 -1.87801272e-...      1\n",
       "...           ...                                                ...    ...\n",
       "11610       11610  [-8.07900906e-01  3.43788892e-01  8.81809518e-...      0\n",
       "11611       11611  [-9.04891670e-01  2.89417118e-01 -2.94612855e-...      0\n",
       "11612       11612  [-6.90551698e-01  1.35520011e-01 -2.52938084e-...      0\n",
       "11613       11613  [-7.32276261e-01  5.08924425e-01 -2.66482718e-...      0\n",
       "11614       11614  [-7.33249187e-01  6.68394983e-01 -2.37192623e-...      0\n",
       "\n",
       "[11615 rows x 3 columns]"
      ]
     },
     "execution_count": 3,
     "metadata": {},
     "output_type": "execute_result"
    }
   ],
   "source": [
    "df"
   ]
  },
  {
   "cell_type": "code",
   "execution_count": 4,
   "metadata": {},
   "outputs": [],
   "source": [
    "df = df.drop('Unnamed: 0', axis=1)"
   ]
  },
  {
   "cell_type": "code",
   "execution_count": 5,
   "metadata": {},
   "outputs": [
    {
     "data": {
      "text/html": [
       "<div>\n",
       "<style scoped>\n",
       "    .dataframe tbody tr th:only-of-type {\n",
       "        vertical-align: middle;\n",
       "    }\n",
       "\n",
       "    .dataframe tbody tr th {\n",
       "        vertical-align: top;\n",
       "    }\n",
       "\n",
       "    .dataframe thead th {\n",
       "        text-align: right;\n",
       "    }\n",
       "</style>\n",
       "<table border=\"1\" class=\"dataframe\">\n",
       "  <thead>\n",
       "    <tr style=\"text-align: right;\">\n",
       "      <th></th>\n",
       "      <th>embedded</th>\n",
       "      <th>label</th>\n",
       "    </tr>\n",
       "  </thead>\n",
       "  <tbody>\n",
       "    <tr>\n",
       "      <th>0</th>\n",
       "      <td>[-5.96681118e-01  4.11902845e-01 -3.08486857e-...</td>\n",
       "      <td>1</td>\n",
       "    </tr>\n",
       "    <tr>\n",
       "      <th>1</th>\n",
       "      <td>[-6.81407630e-01  4.91403908e-01 -1.21448785e-...</td>\n",
       "      <td>1</td>\n",
       "    </tr>\n",
       "    <tr>\n",
       "      <th>2</th>\n",
       "      <td>[-5.65098464e-01  5.53117573e-01 -3.84215899e-...</td>\n",
       "      <td>1</td>\n",
       "    </tr>\n",
       "    <tr>\n",
       "      <th>3</th>\n",
       "      <td>[-3.87674928e-01  2.98460498e-02  2.36579791e-...</td>\n",
       "      <td>1</td>\n",
       "    </tr>\n",
       "    <tr>\n",
       "      <th>4</th>\n",
       "      <td>[-3.86169583e-01  3.35951298e-01 -1.87801272e-...</td>\n",
       "      <td>1</td>\n",
       "    </tr>\n",
       "    <tr>\n",
       "      <th>...</th>\n",
       "      <td>...</td>\n",
       "      <td>...</td>\n",
       "    </tr>\n",
       "    <tr>\n",
       "      <th>11610</th>\n",
       "      <td>[-8.07900906e-01  3.43788892e-01  8.81809518e-...</td>\n",
       "      <td>0</td>\n",
       "    </tr>\n",
       "    <tr>\n",
       "      <th>11611</th>\n",
       "      <td>[-9.04891670e-01  2.89417118e-01 -2.94612855e-...</td>\n",
       "      <td>0</td>\n",
       "    </tr>\n",
       "    <tr>\n",
       "      <th>11612</th>\n",
       "      <td>[-6.90551698e-01  1.35520011e-01 -2.52938084e-...</td>\n",
       "      <td>0</td>\n",
       "    </tr>\n",
       "    <tr>\n",
       "      <th>11613</th>\n",
       "      <td>[-7.32276261e-01  5.08924425e-01 -2.66482718e-...</td>\n",
       "      <td>0</td>\n",
       "    </tr>\n",
       "    <tr>\n",
       "      <th>11614</th>\n",
       "      <td>[-7.33249187e-01  6.68394983e-01 -2.37192623e-...</td>\n",
       "      <td>0</td>\n",
       "    </tr>\n",
       "  </tbody>\n",
       "</table>\n",
       "<p>11615 rows × 2 columns</p>\n",
       "</div>"
      ],
      "text/plain": [
       "                                                embedded  label\n",
       "0      [-5.96681118e-01  4.11902845e-01 -3.08486857e-...      1\n",
       "1      [-6.81407630e-01  4.91403908e-01 -1.21448785e-...      1\n",
       "2      [-5.65098464e-01  5.53117573e-01 -3.84215899e-...      1\n",
       "3      [-3.87674928e-01  2.98460498e-02  2.36579791e-...      1\n",
       "4      [-3.86169583e-01  3.35951298e-01 -1.87801272e-...      1\n",
       "...                                                  ...    ...\n",
       "11610  [-8.07900906e-01  3.43788892e-01  8.81809518e-...      0\n",
       "11611  [-9.04891670e-01  2.89417118e-01 -2.94612855e-...      0\n",
       "11612  [-6.90551698e-01  1.35520011e-01 -2.52938084e-...      0\n",
       "11613  [-7.32276261e-01  5.08924425e-01 -2.66482718e-...      0\n",
       "11614  [-7.33249187e-01  6.68394983e-01 -2.37192623e-...      0\n",
       "\n",
       "[11615 rows x 2 columns]"
      ]
     },
     "execution_count": 5,
     "metadata": {},
     "output_type": "execute_result"
    }
   ],
   "source": [
    "df"
   ]
  },
  {
   "cell_type": "code",
   "execution_count": 6,
   "metadata": {},
   "outputs": [
    {
     "data": {
      "text/plain": [
       "label\n",
       "1    5828\n",
       "0    5787\n",
       "Name: count, dtype: int64"
      ]
     },
     "execution_count": 6,
     "metadata": {},
     "output_type": "execute_result"
    }
   ],
   "source": [
    "df['label'].value_counts()"
   ]
  },
  {
   "cell_type": "code",
   "execution_count": 7,
   "metadata": {},
   "outputs": [
    {
     "name": "stdout",
     "output_type": "stream",
     "text": [
      "Requirement already satisfied: scikit-learn in /Users/vaishtaruni/anaconda3/envs/vaishML/lib/python3.12/site-packages (1.6.1)\n",
      "Requirement already satisfied: numpy>=1.19.5 in /Users/vaishtaruni/anaconda3/envs/vaishML/lib/python3.12/site-packages (from scikit-learn) (1.26.3)\n",
      "Requirement already satisfied: scipy>=1.6.0 in /Users/vaishtaruni/anaconda3/envs/vaishML/lib/python3.12/site-packages (from scikit-learn) (1.15.2)\n",
      "Requirement already satisfied: joblib>=1.2.0 in /Users/vaishtaruni/anaconda3/envs/vaishML/lib/python3.12/site-packages (from scikit-learn) (1.5.0)\n",
      "Requirement already satisfied: threadpoolctl>=3.1.0 in /Users/vaishtaruni/anaconda3/envs/vaishML/lib/python3.12/site-packages (from scikit-learn) (3.6.0)\n",
      "Note: you may need to restart the kernel to use updated packages.\n"
     ]
    }
   ],
   "source": [
    "pip install scikit-learn\n"
   ]
  },
  {
   "cell_type": "code",
   "execution_count": 8,
   "metadata": {},
   "outputs": [],
   "source": [
    "import pandas as pd\n",
    "import numpy as np\n",
    "import ast\n",
    "import re\n",
    "\n",
    "# Define a cleanup function\n",
    "def fix_and_eval(vector_str):\n",
    "    try:\n",
    "        # Insert missing commas between adjacent numbers using regex\n",
    "        cleaned_str = re.sub(r'(?<=[\\deE])\\s+(?=[\\-\\d])', ', ', vector_str.strip())\n",
    "        return np.array(ast.literal_eval(cleaned_str))\n",
    "    except Exception as e:\n",
    "        print(\"Error parsing:\", vector_str[:100], \"\\nError:\", e)\n",
    "        return np.nan\n",
    "\n",
    "# Apply the cleanup function\n",
    "df['embedded'] = df['embedded'].apply(fix_and_eval)\n",
    "\n",
    "# Optional: drop rows with failed parsing\n",
    "df = df.dropna(subset=['embedded'])\n",
    "from sklearn.model_selection import train_test_split\n",
    "\n",
    "X = np.stack(df['embedded'].values)\n",
    "y = df['label'].values\n"
   ]
  },
  {
   "cell_type": "code",
   "execution_count": 9,
   "metadata": {},
   "outputs": [],
   "source": [
    "import numpy as np\n",
    "import matplotlib.pyplot as plt\n",
    "from sklearn.linear_model import LogisticRegression\n",
    "from sklearn.model_selection import train_test_split\n",
    "from sklearn.preprocessing import StandardScaler\n",
    "from sklearn.metrics import log_loss, roc_curve, auc\n",
    "\n",
    "# Example Data (Use your own dataset here)\n",
    "# X, y = your_data\n",
    "\n",
    "# Split data\n",
    "X_train, X_test, y_train, y_test = train_test_split(X, y, test_size=0.2, random_state=42)\n",
    "\n",
    "# Normalize features\n",
    "scaler = StandardScaler()\n",
    "X_train = scaler.fit_transform(X_train)\n",
    "X_test = scaler.transform(X_test)"
   ]
  },
  {
   "cell_type": "code",
   "execution_count": 54,
   "metadata": {},
   "outputs": [
    {
     "data": {
      "text/plain": [
       "array([[-0.5951156 ,  0.38908443, -0.23738527, ..., -0.3742781 ,\n",
       "        -0.29192826,  0.39543086],\n",
       "       [-0.80808717,  0.39585629, -0.19661014, ..., -0.35699996,\n",
       "        -0.00350313, -0.29407081],\n",
       "       [-0.58719873,  0.42662799, -0.18509169, ..., -0.2385565 ,\n",
       "        -0.06887847, -0.09550839],\n",
       "       ...,\n",
       "       [-0.34048086,  0.58108461,  0.2205406 , ..., -0.39988556,\n",
       "         0.05122917,  0.27209544],\n",
       "       [-0.3900339 ,  0.50966912, -0.01720418, ..., -0.24908972,\n",
       "         0.15578017, -0.23438987],\n",
       "       [-0.640944  ,  0.32086438, -0.12651488, ..., -0.16581145,\n",
       "        -0.21322036, -0.17846982]])"
      ]
     },
     "execution_count": 54,
     "metadata": {},
     "output_type": "execute_result"
    }
   ],
   "source": [
    "X_train"
   ]
  },
  {
   "cell_type": "markdown",
   "metadata": {},
   "source": [
    "# Model Development"
   ]
  },
  {
   "cell_type": "markdown",
   "metadata": {},
   "source": [
    "## Logistic Regression"
   ]
  },
  {
   "cell_type": "code",
   "execution_count": 9,
   "metadata": {},
   "outputs": [],
   "source": [
    "from sklearn.linear_model import LogisticRegression\n",
    "from sklearn.metrics import accuracy_score, precision_score, recall_score, f1_score\n",
    "\n",
    "def train_logistic_regression(X_train, y_train, X_test, y_test):\n",
    "    model = LogisticRegression(max_iter=1000, solver='lbfgs')\n",
    "    model.fit(X_train, y_train)\n",
    "    y_pred = model.predict(X_test)\n",
    "\n",
    "    print(\"Accuracy:\", accuracy_score(y_test, y_pred))\n",
    "    print(\"Precision:\", precision_score(y_test, y_pred))\n",
    "    print(\"Recall:\", recall_score(y_test, y_pred))\n",
    "    print(\"F1 Score:\", f1_score(y_test, y_pred))\n",
    "    \n",
    "    return model, y_pred\n"
   ]
  },
  {
   "cell_type": "code",
   "execution_count": 10,
   "metadata": {},
   "outputs": [],
   "source": [
    "import matplotlib.pyplot as plt\n",
    "from sklearn.metrics import roc_curve, auc\n",
    "\n",
    "def plot_roc_curve(model, X_test, y_test):\n",
    "    y_prob = model.predict_proba(X_test)[:, 1]  # Probabilities for class 1\n",
    "    fpr, tpr, thresholds = roc_curve(y_test, y_prob)\n",
    "    roc_auc = auc(fpr, tpr)\n",
    "\n",
    "\n",
    "    plt.figure(figsize=(6, 6))\n",
    "    plt.plot(fpr, tpr, color='darkorange', lw=2, label=f'ROC curve (AUC = {roc_auc:.2f})')\n",
    "    plt.plot([0, 1], [0, 1], color='navy', lw=2, linestyle='--')  # Diagonal\n",
    "    plt.xlim([0.0, 1.0])\n",
    "    plt.ylim([0.0, 1.05])\n",
    "    plt.xlabel('False Positive Rate')\n",
    "    plt.ylabel('True Positive Rate')\n",
    "    plt.title('Receiver Operating Characteristic')\n",
    "    plt.legend(loc=\"lower right\")\n",
    "    plt.grid(True)\n",
    "    plt.show()\n"
   ]
  },
  {
   "cell_type": "code",
   "execution_count": 11,
   "metadata": {},
   "outputs": [
    {
     "name": "stdout",
     "output_type": "stream",
     "text": [
      "Accuracy: 0.5208781747739991\n",
      "Precision: 0.533167495854063\n",
      "Recall: 0.5389773679798826\n",
      "F1 Score: 0.5360566902876198\n"
     ]
    },
    {
     "data": {
      "image/png": "[encoded data removed]",
      "text/plain": [
       "<Figure size 600x600 with 1 Axes>"
      ]
     },
     "metadata": {},
     "output_type": "display_data"
    }
   ],
   "source": [
    "model, y_pred = train_logistic_regression(X_train, y_train, X_test, y_test)\n",
    "plot_roc_curve(model, X_test, y_test)\n"
   ]
  },
  {
   "cell_type": "markdown",
   "metadata": {},
   "source": [
    "## SVM"
   ]
  },
  {
   "cell_type": "code",
   "execution_count": 12,
   "metadata": {},
   "outputs": [
    {
     "name": "stdout",
     "output_type": "stream",
     "text": [
      "Fold 1 - AUC: 0.51\n",
      "Fold 2 - AUC: 0.50\n",
      "Fold 3 - AUC: 0.50\n",
      "Fold 4 - AUC: 0.50\n",
      "Fold 5 - AUC: 0.50\n",
      "\n",
      "Average Metrics Across Folds:\n",
      "Accuracy: 0.49\n",
      "Precision: 0.49\n",
      "Recall: 0.51\n",
      "F1 Score: 0.50\n",
      "ROC AUC: 0.50\n"
     ]
    },
    {
     "data": {
      "image/png": "[encoded data removed]",
      "text/plain": [
       "<Figure size 800x600 with 1 Axes>"
      ]
     },
     "metadata": {},
     "output_type": "display_data"
    }
   ],
   "source": [
    "import numpy as np\n",
    "import matplotlib.pyplot as plt\n",
    "from sklearn.svm import SVC\n",
    "from sklearn.model_selection import StratifiedKFold\n",
    "from sklearn.preprocessing import StandardScaler\n",
    "from sklearn.metrics import (\n",
    "    accuracy_score, precision_score, recall_score, f1_score, roc_curve, auc\n",
    ")\n",
    "\n",
    "# Example Data (use your actual dataset)\n",
    "# X, y = your_data\n",
    "\n",
    "# Set number of folds\n",
    "k = 5\n",
    "skf = StratifiedKFold(n_splits=k, shuffle=True, random_state=42)\n",
    "\n",
    "# Initialize metric containers\n",
    "accuracies = []\n",
    "precisions = []\n",
    "recalls = []\n",
    "f1_scores = []\n",
    "roc_aucs = []\n",
    "\n",
    "mean_fpr = np.linspace(0, 1, 100)\n",
    "tprs = []\n",
    "\n",
    "# K-Fold Cross Validation\n",
    "for fold, (train_idx, test_idx) in enumerate(skf.split(X, y), 1):\n",
    "    X_train, X_test = X[train_idx], X[test_idx]\n",
    "    y_train, y_test = y[train_idx], y[test_idx]\n",
    "\n",
    "    # Normalize features within the fold\n",
    "    scaler = StandardScaler()\n",
    "    X_train = scaler.fit_transform(X_train)\n",
    "    X_test = scaler.transform(X_test)\n",
    "\n",
    "    # Train SVM\n",
    "    svm = SVC(kernel='linear', probability=True, random_state=42)\n",
    "    svm.fit(X_train, y_train)\n",
    "\n",
    "    # Predictions\n",
    "    y_pred = svm.predict(X_test)\n",
    "    y_prob = svm.predict_proba(X_test)[:, 1]\n",
    "\n",
    "    # Store metrics\n",
    "    accuracies.append(accuracy_score(y_test, y_pred))\n",
    "    precisions.append(precision_score(y_test, y_pred))\n",
    "    recalls.append(recall_score(y_test, y_pred))\n",
    "    f1_scores.append(f1_score(y_test, y_pred))\n",
    "\n",
    "    # ROC Curve\n",
    "    fpr, tpr, _ = roc_curve(y_test, y_prob)\n",
    "    roc_auc = auc(fpr, tpr)\n",
    "    roc_aucs.append(roc_auc)\n",
    "\n",
    "    # Interpolate ROC curve\n",
    "    tpr_interp = np.interp(mean_fpr, fpr, tpr)\n",
    "    tpr_interp[0] = 0.0\n",
    "    tprs.append(tpr_interp)\n",
    "\n",
    "    print(f\"Fold {fold} - AUC: {roc_auc:.2f}\")\n",
    "\n",
    "# Average metrics\n",
    "print(\"\\nAverage Metrics Across Folds:\")\n",
    "print(f\"Accuracy: {np.mean(accuracies):.2f}\")\n",
    "print(f\"Precision: {np.mean(precisions):.2f}\")\n",
    "print(f\"Recall: {np.mean(recalls):.2f}\")\n",
    "print(f\"F1 Score: {np.mean(f1_scores):.2f}\")\n",
    "print(f\"ROC AUC: {np.mean(roc_aucs):.2f}\")\n",
    "\n",
    "# Plot mean ROC curve\n",
    "mean_tpr = np.mean(tprs, axis=0)\n",
    "mean_tpr[-1] = 1.0\n",
    "mean_auc = auc(mean_fpr, mean_tpr)\n",
    "\n",
    "plt.figure(figsize=(8, 6))\n",
    "plt.plot(mean_fpr, mean_tpr, color='green', label=f'Mean ROC (AUC = {mean_auc:.2f})', lw=2)\n",
    "plt.plot([0, 1], [0, 1], linestyle='--', color='gray', lw=2)\n",
    "plt.xlabel('False Positive Rate')\n",
    "plt.ylabel('True Positive Rate')\n",
    "plt.title(f'{k}-Fold Cross-Validated ROC Curve for SVM')\n",
    "plt.legend(loc='lower right')\n",
    "plt.grid(True)\n",
    "plt.show()\n"
   ]
  },
  {
   "cell_type": "markdown",
   "metadata": {},
   "source": [
    "## Decision Tree"
   ]
  },
  {
   "cell_type": "markdown",
   "metadata": {},
   "source": [
    "## Naive Bayes"
   ]
  },
  {
   "cell_type": "markdown",
   "metadata": {},
   "source": [
    "## Neural Networks"
   ]
  },
  {
   "cell_type": "code",
   "execution_count": 57,
   "metadata": {},
   "outputs": [
    {
     "name": "stdout",
     "output_type": "stream",
     "text": [
      "Epoch 1/60\n"
     ]
    },
    {
     "name": "stderr",
     "output_type": "stream",
     "text": [
      "/Users/vaishtaruni/anaconda3/envs/vaishML/lib/python3.12/site-packages/keras/src/layers/core/dense.py:87: UserWarning: Do not pass an `input_shape`/`input_dim` argument to a layer. When using Sequential models, prefer using an `Input(shape)` object as the first layer in the model instead.\n",
      "  super().__init__(activity_regularizer=activity_regularizer, **kwargs)\n",
      "/Users/vaishtaruni/anaconda3/envs/vaishML/lib/python3.12/site-packages/keras/src/layers/activations/leaky_relu.py:41: UserWarning: Argument `alpha` is deprecated. Use `negative_slope` instead.\n",
      "  warnings.warn(\n"
     ]
    },
    {
     "name": "stdout",
     "output_type": "stream",
     "text": [
      "\u001b[1m291/291\u001b[0m \u001b[32m━━━━━━━━━━━━━━━━━━━━\u001b[0m\u001b[37m\u001b[0m \u001b[1m2s\u001b[0m 4ms/step - AUC: 0.4927 - accuracy: 0.4894 - loss: 3.7205 - val_AUC: 0.4993 - val_accuracy: 0.5136 - val_loss: 0.8258 - learning_rate: 5.0000e-05\n",
      "Epoch 2/60\n",
      "\u001b[1m 55/291\u001b[0m \u001b[32m━━━\u001b[0m\u001b[37m━━━━━━━━━━━━━━━━━\u001b[0m \u001b[1m0s\u001b[0m 3ms/step - AUC: 0.4750 - accuracy: 0.4967 - loss: 2.1981"
     ]
    },
    {
     "name": "stderr",
     "output_type": "stream",
     "text": [
      "/Users/vaishtaruni/anaconda3/envs/vaishML/lib/python3.12/site-packages/keras/src/callbacks/early_stopping.py:155: UserWarning: Early stopping conditioned on metric `val_auc` which is not available. Available metrics are: AUC,accuracy,loss,val_AUC,val_accuracy,val_loss\n",
      "  current = self.get_monitor_value(logs)\n"
     ]
    },
    {
     "name": "stdout",
     "output_type": "stream",
     "text": [
      "\u001b[1m291/291\u001b[0m \u001b[32m━━━━━━━━━━━━━━━━━━━━\u001b[0m\u001b[37m\u001b[0m \u001b[1m1s\u001b[0m 3ms/step - AUC: 0.4919 - accuracy: 0.5001 - loss: 2.1117 - val_AUC: 0.5013 - val_accuracy: 0.5136 - val_loss: 0.9702 - learning_rate: 5.0000e-05\n",
      "Epoch 3/60\n",
      "\u001b[1m291/291\u001b[0m \u001b[32m━━━━━━━━━━━━━━━━━━━━\u001b[0m\u001b[37m\u001b[0m \u001b[1m1s\u001b[0m 3ms/step - AUC: 0.5232 - accuracy: 0.5044 - loss: 1.9392 - val_AUC: 0.5036 - val_accuracy: 0.5136 - val_loss: 0.9770 - learning_rate: 5.0000e-05\n",
      "Epoch 4/60\n",
      "\u001b[1m287/291\u001b[0m \u001b[32m━━━━━━━━━━━━━━━━━━━\u001b[0m\u001b[37m━\u001b[0m \u001b[1m0s\u001b[0m 3ms/step - AUC: 0.5071 - accuracy: 0.5056 - loss: 1.9362\n",
      "Epoch 4: ReduceLROnPlateau reducing learning rate to 2.499999936844688e-05.\n",
      "\u001b[1m291/291\u001b[0m \u001b[32m━━━━━━━━━━━━━━━━━━━━\u001b[0m\u001b[37m\u001b[0m \u001b[1m1s\u001b[0m 3ms/step - AUC: 0.5070 - accuracy: 0.5055 - loss: 1.9364 - val_AUC: 0.5063 - val_accuracy: 0.5136 - val_loss: 1.0204 - learning_rate: 5.0000e-05\n",
      "Epoch 5/60\n",
      "\u001b[1m291/291\u001b[0m \u001b[32m━━━━━━━━━━━━━━━━━━━━\u001b[0m\u001b[37m\u001b[0m \u001b[1m1s\u001b[0m 3ms/step - AUC: 0.5115 - accuracy: 0.4983 - loss: 1.9107 - val_AUC: 0.5033 - val_accuracy: 0.5136 - val_loss: 1.0021 - learning_rate: 2.5000e-05\n",
      "Epoch 6/60\n",
      "\u001b[1m291/291\u001b[0m \u001b[32m━━━━━━━━━━━━━━━━━━━━\u001b[0m\u001b[37m\u001b[0m \u001b[1m1s\u001b[0m 3ms/step - AUC: 0.5193 - accuracy: 0.5122 - loss: 1.8700 - val_AUC: 0.5024 - val_accuracy: 0.5136 - val_loss: 0.9853 - learning_rate: 2.5000e-05\n",
      "Epoch 7/60\n",
      "\u001b[1m273/291\u001b[0m \u001b[32m━━━━━━━━━━━━━━━━━━\u001b[0m\u001b[37m━━\u001b[0m \u001b[1m0s\u001b[0m 2ms/step - AUC: 0.5094 - accuracy: 0.5018 - loss: 1.8878\n",
      "Epoch 7: ReduceLROnPlateau reducing learning rate to 1.249999968422344e-05.\n",
      "\u001b[1m291/291\u001b[0m \u001b[32m━━━━━━━━━━━━━━━━━━━━\u001b[0m\u001b[37m\u001b[0m \u001b[1m1s\u001b[0m 3ms/step - AUC: 0.5088 - accuracy: 0.5016 - loss: 1.8890 - val_AUC: 0.5040 - val_accuracy: 0.5136 - val_loss: 0.9955 - learning_rate: 2.5000e-05\n",
      "Epoch 8/60\n",
      "\u001b[1m291/291\u001b[0m \u001b[32m━━━━━━━━━━━━━━━━━━━━\u001b[0m\u001b[37m\u001b[0m \u001b[1m1s\u001b[0m 3ms/step - AUC: 0.5102 - accuracy: 0.5046 - loss: 1.8792 - val_AUC: 0.5025 - val_accuracy: 0.5136 - val_loss: 0.9931 - learning_rate: 1.2500e-05\n",
      "Epoch 9/60\n",
      "\u001b[1m291/291\u001b[0m \u001b[32m━━━━━━━━━━━━━━━━━━━━\u001b[0m\u001b[37m\u001b[0m \u001b[1m1s\u001b[0m 3ms/step - AUC: 0.5079 - accuracy: 0.5054 - loss: 1.8744 - val_AUC: 0.5021 - val_accuracy: 0.5136 - val_loss: 0.9818 - learning_rate: 1.2500e-05\n",
      "Epoch 10/60\n",
      "\u001b[1m272/291\u001b[0m \u001b[32m━━━━━━━━━━━━━━━━━━\u001b[0m\u001b[37m━━\u001b[0m \u001b[1m0s\u001b[0m 2ms/step - AUC: 0.5113 - accuracy: 0.5036 - loss: 1.8770\n",
      "Epoch 10: ReduceLROnPlateau reducing learning rate to 6.24999984211172e-06.\n",
      "\u001b[1m291/291\u001b[0m \u001b[32m━━━━━━━━━━━━━━━━━━━━\u001b[0m\u001b[37m\u001b[0m \u001b[1m1s\u001b[0m 3ms/step - AUC: 0.5114 - accuracy: 0.5033 - loss: 1.8766 - val_AUC: 0.5008 - val_accuracy: 0.5136 - val_loss: 0.9848 - learning_rate: 1.2500e-05\n",
      "Epoch 11/60\n",
      "\u001b[1m291/291\u001b[0m \u001b[32m━━━━━━━━━━━━━━━━━━━━\u001b[0m\u001b[37m\u001b[0m \u001b[1m1s\u001b[0m 3ms/step - AUC: 0.4986 - accuracy: 0.4947 - loss: 1.8849 - val_AUC: 0.4993 - val_accuracy: 0.5136 - val_loss: 0.9802 - learning_rate: 6.2500e-06\n",
      "Epoch 12/60\n",
      "\u001b[1m291/291\u001b[0m \u001b[32m━━━━━━━━━━━━━━━━━━━━\u001b[0m\u001b[37m\u001b[0m \u001b[1m1s\u001b[0m 3ms/step - AUC: 0.5136 - accuracy: 0.4958 - loss: 1.8725 - val_AUC: 0.4992 - val_accuracy: 0.5136 - val_loss: 0.9820 - learning_rate: 6.2500e-06\n",
      "Epoch 13/60\n",
      "\u001b[1m283/291\u001b[0m \u001b[32m━━━━━━━━━━━━━━━━━━━\u001b[0m\u001b[37m━\u001b[0m \u001b[1m0s\u001b[0m 3ms/step - AUC: 0.5017 - accuracy: 0.5027 - loss: 1.8731\n",
      "Epoch 13: ReduceLROnPlateau reducing learning rate to 3.12499992105586e-06.\n",
      "\u001b[1m291/291\u001b[0m \u001b[32m━━━━━━━━━━━━━━━━━━━━\u001b[0m\u001b[37m\u001b[0m \u001b[1m1s\u001b[0m 3ms/step - AUC: 0.5020 - accuracy: 0.5026 - loss: 1.8730 - val_AUC: 0.5003 - val_accuracy: 0.5136 - val_loss: 0.9806 - learning_rate: 6.2500e-06\n",
      "Epoch 14/60\n",
      "\u001b[1m291/291\u001b[0m \u001b[32m━━━━━━━━━━━━━━━━━━━━\u001b[0m\u001b[37m\u001b[0m \u001b[1m1s\u001b[0m 3ms/step - AUC: 0.5055 - accuracy: 0.5014 - loss: 1.8751 - val_AUC: 0.4984 - val_accuracy: 0.5136 - val_loss: 0.9782 - learning_rate: 3.1250e-06\n",
      "Epoch 15/60\n",
      "\u001b[1m291/291\u001b[0m \u001b[32m━━━━━━━━━━━━━━━━━━━━\u001b[0m\u001b[37m\u001b[0m \u001b[1m1s\u001b[0m 3ms/step - AUC: 0.5168 - accuracy: 0.5084 - loss: 1.8465 - val_AUC: 0.4993 - val_accuracy: 0.5136 - val_loss: 0.9785 - learning_rate: 3.1250e-06\n",
      "Epoch 16/60\n",
      "\u001b[1m275/291\u001b[0m \u001b[32m━━━━━━━━━━━━━━━━━━\u001b[0m\u001b[37m━━\u001b[0m \u001b[1m0s\u001b[0m 2ms/step - AUC: 0.5141 - accuracy: 0.5014 - loss: 1.8508\n",
      "Epoch 16: ReduceLROnPlateau reducing learning rate to 1.56249996052793e-06.\n",
      "\u001b[1m291/291\u001b[0m \u001b[32m━━━━━━━━━━━━━━━━━━━━\u001b[0m\u001b[37m\u001b[0m \u001b[1m1s\u001b[0m 3ms/step - AUC: 0.5140 - accuracy: 0.5014 - loss: 1.8513 - val_AUC: 0.4994 - val_accuracy: 0.5136 - val_loss: 0.9784 - learning_rate: 3.1250e-06\n",
      "Epoch 17/60\n",
      "\u001b[1m291/291\u001b[0m \u001b[32m━━━━━━━━━━━━━━━━━━━━\u001b[0m\u001b[37m\u001b[0m \u001b[1m1s\u001b[0m 3ms/step - AUC: 0.5221 - accuracy: 0.4938 - loss: 1.8482 - val_AUC: 0.4985 - val_accuracy: 0.5136 - val_loss: 0.9793 - learning_rate: 1.5625e-06\n",
      "Epoch 18/60\n",
      "\u001b[1m291/291\u001b[0m \u001b[32m━━━━━━━━━━━━━━━━━━━━\u001b[0m\u001b[37m\u001b[0m \u001b[1m1s\u001b[0m 3ms/step - AUC: 0.5088 - accuracy: 0.5084 - loss: 1.8456 - val_AUC: 0.4986 - val_accuracy: 0.5136 - val_loss: 0.9798 - learning_rate: 1.5625e-06\n",
      "Epoch 19/60\n",
      "\u001b[1m280/291\u001b[0m \u001b[32m━━━━━━━━━━━━━━━━━━━\u001b[0m\u001b[37m━\u001b[0m \u001b[1m0s\u001b[0m 2ms/step - AUC: 0.5085 - accuracy: 0.5057 - loss: 1.8464\n",
      "Epoch 19: ReduceLROnPlateau reducing learning rate to 7.81249980263965e-07.\n",
      "\u001b[1m291/291\u001b[0m \u001b[32m━━━━━━━━━━━━━━━━━━━━\u001b[0m\u001b[37m\u001b[0m \u001b[1m1s\u001b[0m 3ms/step - AUC: 0.5087 - accuracy: 0.5054 - loss: 1.8466 - val_AUC: 0.4981 - val_accuracy: 0.5136 - val_loss: 0.9778 - learning_rate: 1.5625e-06\n",
      "Epoch 20/60\n",
      "\u001b[1m291/291\u001b[0m \u001b[32m━━━━━━━━━━━━━━━━━━━━\u001b[0m\u001b[37m\u001b[0m \u001b[1m1s\u001b[0m 3ms/step - AUC: 0.5078 - accuracy: 0.5019 - loss: 1.8602 - val_AUC: 0.4982 - val_accuracy: 0.5136 - val_loss: 0.9776 - learning_rate: 7.8125e-07\n",
      "Epoch 21/60\n",
      "\u001b[1m291/291\u001b[0m \u001b[32m━━━━━━━━━━━━━━━━━━━━\u001b[0m\u001b[37m\u001b[0m \u001b[1m1s\u001b[0m 3ms/step - AUC: 0.5251 - accuracy: 0.5032 - loss: 1.8304 - val_AUC: 0.4991 - val_accuracy: 0.5136 - val_loss: 0.9756 - learning_rate: 7.8125e-07\n",
      "Epoch 22/60\n",
      "\u001b[1m277/291\u001b[0m \u001b[32m━━━━━━━━━━━━━━━━━━━\u001b[0m\u001b[37m━\u001b[0m \u001b[1m0s\u001b[0m 2ms/step - AUC: 0.5065 - accuracy: 0.5073 - loss: 1.8593\n",
      "Epoch 22: ReduceLROnPlateau reducing learning rate to 3.906249901319825e-07.\n",
      "\u001b[1m291/291\u001b[0m \u001b[32m━━━━━━━━━━━━━━━━━━━━\u001b[0m\u001b[37m\u001b[0m \u001b[1m1s\u001b[0m 3ms/step - AUC: 0.5069 - accuracy: 0.5068 - loss: 1.8595 - val_AUC: 0.4983 - val_accuracy: 0.5136 - val_loss: 0.9776 - learning_rate: 7.8125e-07\n",
      "Epoch 23/60\n",
      "\u001b[1m291/291\u001b[0m \u001b[32m━━━━━━━━━━━━━━━━━━━━\u001b[0m\u001b[37m\u001b[0m \u001b[1m1s\u001b[0m 3ms/step - AUC: 0.5140 - accuracy: 0.4997 - loss: 1.8564 - val_AUC: 0.4988 - val_accuracy: 0.5136 - val_loss: 0.9771 - learning_rate: 3.9062e-07\n",
      "Epoch 24/60\n",
      "\u001b[1m291/291\u001b[0m \u001b[32m━━━━━━━━━━━━━━━━━━━━\u001b[0m\u001b[37m\u001b[0m \u001b[1m1s\u001b[0m 3ms/step - AUC: 0.5079 - accuracy: 0.5056 - loss: 1.8552 - val_AUC: 0.4993 - val_accuracy: 0.5136 - val_loss: 0.9774 - learning_rate: 3.9062e-07\n",
      "Epoch 25/60\n",
      "\u001b[1m284/291\u001b[0m \u001b[32m━━━━━━━━━━━━━━━━━━━\u001b[0m\u001b[37m━\u001b[0m \u001b[1m0s\u001b[0m 2ms/step - AUC: 0.5211 - accuracy: 0.5077 - loss: 1.8244\n",
      "Epoch 25: ReduceLROnPlateau reducing learning rate to 1.9531249506599124e-07.\n",
      "\u001b[1m291/291\u001b[0m \u001b[32m━━━━━━━━━━━━━━━━━━━━\u001b[0m\u001b[37m\u001b[0m \u001b[1m1s\u001b[0m 3ms/step - AUC: 0.5212 - accuracy: 0.5075 - loss: 1.8247 - val_AUC: 0.4994 - val_accuracy: 0.5136 - val_loss: 0.9788 - learning_rate: 3.9062e-07\n",
      "Epoch 26/60\n",
      "\u001b[1m291/291\u001b[0m \u001b[32m━━━━━━━━━━━━━━━━━━━━\u001b[0m\u001b[37m\u001b[0m \u001b[1m1s\u001b[0m 3ms/step - AUC: 0.5055 - accuracy: 0.5033 - loss: 1.8549 - val_AUC: 0.4981 - val_accuracy: 0.5136 - val_loss: 0.9785 - learning_rate: 1.9531e-07\n",
      "Epoch 27/60\n",
      "\u001b[1m291/291\u001b[0m \u001b[32m━━━━━━━━━━━━━━━━━━━━\u001b[0m\u001b[37m\u001b[0m \u001b[1m1s\u001b[0m 3ms/step - AUC: 0.5109 - accuracy: 0.4934 - loss: 1.8660 - val_AUC: 0.4979 - val_accuracy: 0.5136 - val_loss: 0.9800 - learning_rate: 1.9531e-07\n",
      "Epoch 28/60\n",
      "\u001b[1m278/291\u001b[0m \u001b[32m━━━━━━━━━━━━━━━━━━━\u001b[0m\u001b[37m━\u001b[0m \u001b[1m0s\u001b[0m 2ms/step - AUC: 0.5044 - accuracy: 0.4942 - loss: 1.8751\n",
      "Epoch 28: ReduceLROnPlateau reducing learning rate to 9.765624753299562e-08.\n",
      "\u001b[1m291/291\u001b[0m \u001b[32m━━━━━━━━━━━━━━━━━━━━\u001b[0m\u001b[37m\u001b[0m \u001b[1m1s\u001b[0m 3ms/step - AUC: 0.5045 - accuracy: 0.4944 - loss: 1.8746 - val_AUC: 0.4963 - val_accuracy: 0.5136 - val_loss: 0.9753 - learning_rate: 1.9531e-07\n",
      "Epoch 29/60\n",
      "\u001b[1m291/291\u001b[0m \u001b[32m━━━━━━━━━━━━━━━━━━━━\u001b[0m\u001b[37m\u001b[0m \u001b[1m1s\u001b[0m 3ms/step - AUC: 0.5181 - accuracy: 0.5063 - loss: 1.8446 - val_AUC: 0.4992 - val_accuracy: 0.5136 - val_loss: 0.9770 - learning_rate: 9.7656e-08\n",
      "Epoch 30/60\n",
      "\u001b[1m291/291\u001b[0m \u001b[32m━━━━━━━━━━━━━━━━━━━━\u001b[0m\u001b[37m\u001b[0m \u001b[1m1s\u001b[0m 3ms/step - AUC: 0.5089 - accuracy: 0.4995 - loss: 1.8633 - val_AUC: 0.4986 - val_accuracy: 0.5136 - val_loss: 0.9769 - learning_rate: 9.7656e-08\n",
      "Epoch 31/60\n",
      "\u001b[1m278/291\u001b[0m \u001b[32m━━━━━━━━━━━━━━━━━━━\u001b[0m\u001b[37m━\u001b[0m \u001b[1m0s\u001b[0m 2ms/step - AUC: 0.5217 - accuracy: 0.5036 - loss: 1.8303\n",
      "Epoch 31: ReduceLROnPlateau reducing learning rate to 4.882812376649781e-08.\n",
      "\u001b[1m291/291\u001b[0m \u001b[32m━━━━━━━━━━━━━━━━━━━━\u001b[0m\u001b[37m\u001b[0m \u001b[1m1s\u001b[0m 3ms/step - AUC: 0.5215 - accuracy: 0.5033 - loss: 1.8314 - val_AUC: 0.4997 - val_accuracy: 0.5136 - val_loss: 0.9767 - learning_rate: 9.7656e-08\n",
      "Epoch 32/60\n",
      "\u001b[1m291/291\u001b[0m \u001b[32m━━━━━━━━━━━━━━━━━━━━\u001b[0m\u001b[37m\u001b[0m \u001b[1m1s\u001b[0m 3ms/step - AUC: 0.5038 - accuracy: 0.5037 - loss: 1.8670 - val_AUC: 0.4976 - val_accuracy: 0.5136 - val_loss: 0.9755 - learning_rate: 4.8828e-08\n",
      "Epoch 33/60\n",
      "\u001b[1m291/291\u001b[0m \u001b[32m━━━━━━━━━━━━━━━━━━━━\u001b[0m\u001b[37m\u001b[0m \u001b[1m1s\u001b[0m 3ms/step - AUC: 0.5233 - accuracy: 0.4970 - loss: 1.8400 - val_AUC: 0.4985 - val_accuracy: 0.5136 - val_loss: 0.9748 - learning_rate: 4.8828e-08\n",
      "Epoch 34/60\n",
      "\u001b[1m279/291\u001b[0m \u001b[32m━━━━━━━━━━━━━━━━━━━\u001b[0m\u001b[37m━\u001b[0m \u001b[1m0s\u001b[0m 2ms/step - AUC: 0.5078 - accuracy: 0.5060 - loss: 1.8511\n",
      "Epoch 34: ReduceLROnPlateau reducing learning rate to 2.4414061883248905e-08.\n",
      "\u001b[1m291/291\u001b[0m \u001b[32m━━━━━━━━━━━━━━━━━━━━\u001b[0m\u001b[37m\u001b[0m \u001b[1m1s\u001b[0m 3ms/step - AUC: 0.5079 - accuracy: 0.5057 - loss: 1.8513 - val_AUC: 0.4988 - val_accuracy: 0.5136 - val_loss: 0.9752 - learning_rate: 4.8828e-08\n",
      "Epoch 35/60\n",
      "\u001b[1m291/291\u001b[0m \u001b[32m━━━━━━━━━━━━━━━━━━━━\u001b[0m\u001b[37m\u001b[0m \u001b[1m1s\u001b[0m 3ms/step - AUC: 0.5131 - accuracy: 0.4929 - loss: 1.8652 - val_AUC: 0.4993 - val_accuracy: 0.5136 - val_loss: 0.9755 - learning_rate: 2.4414e-08\n",
      "Epoch 36/60\n",
      "\u001b[1m291/291\u001b[0m \u001b[32m━━━━━━━━━━━━━━━━━━━━\u001b[0m\u001b[37m\u001b[0m \u001b[1m1s\u001b[0m 3ms/step - AUC: 0.5175 - accuracy: 0.5047 - loss: 1.8414 - val_AUC: 0.4984 - val_accuracy: 0.5136 - val_loss: 0.9733 - learning_rate: 2.4414e-08\n",
      "Epoch 37/60\n",
      "\u001b[1m289/291\u001b[0m \u001b[32m━━━━━━━━━━━━━━━━━━━\u001b[0m\u001b[37m━\u001b[0m \u001b[1m0s\u001b[0m 4ms/step - AUC: 0.5128 - accuracy: 0.5059 - loss: 1.8418\n",
      "Epoch 37: ReduceLROnPlateau reducing learning rate to 1.2207030941624453e-08.\n",
      "\u001b[1m291/291\u001b[0m \u001b[32m━━━━━━━━━━━━━━━━━━━━\u001b[0m\u001b[37m\u001b[0m \u001b[1m1s\u001b[0m 5ms/step - AUC: 0.5128 - accuracy: 0.5059 - loss: 1.8419 - val_AUC: 0.4986 - val_accuracy: 0.5136 - val_loss: 0.9799 - learning_rate: 2.4414e-08\n",
      "Epoch 38/60\n",
      "\u001b[1m291/291\u001b[0m \u001b[32m━━━━━━━━━━━━━━━━━━━━\u001b[0m\u001b[37m\u001b[0m \u001b[1m1s\u001b[0m 3ms/step - AUC: 0.5319 - accuracy: 0.4973 - loss: 1.8267 - val_AUC: 0.4988 - val_accuracy: 0.5136 - val_loss: 0.9755 - learning_rate: 1.2207e-08\n",
      "Epoch 39/60\n",
      "\u001b[1m291/291\u001b[0m \u001b[32m━━━━━━━━━━━━━━━━━━━━\u001b[0m\u001b[37m\u001b[0m \u001b[1m1s\u001b[0m 3ms/step - AUC: 0.5236 - accuracy: 0.4964 - loss: 1.8474 - val_AUC: 0.4981 - val_accuracy: 0.5136 - val_loss: 0.9761 - learning_rate: 1.2207e-08\n",
      "Epoch 40/60\n",
      "\u001b[1m289/291\u001b[0m \u001b[32m━━━━━━━━━━━━━━━━━━━\u001b[0m\u001b[37m━\u001b[0m \u001b[1m0s\u001b[0m 2ms/step - AUC: 0.5235 - accuracy: 0.4949 - loss: 1.8509\n",
      "Epoch 40: ReduceLROnPlateau reducing learning rate to 6.103515470812226e-09.\n",
      "\u001b[1m291/291\u001b[0m \u001b[32m━━━━━━━━━━━━━━━━━━━━\u001b[0m\u001b[37m\u001b[0m \u001b[1m1s\u001b[0m 3ms/step - AUC: 0.5234 - accuracy: 0.4949 - loss: 1.8509 - val_AUC: 0.4994 - val_accuracy: 0.5136 - val_loss: 0.9762 - learning_rate: 1.2207e-08\n",
      "Epoch 41/60\n",
      "\u001b[1m291/291\u001b[0m \u001b[32m━━━━━━━━━━━━━━━━━━━━\u001b[0m\u001b[37m\u001b[0m \u001b[1m1s\u001b[0m 3ms/step - AUC: 0.5279 - accuracy: 0.4985 - loss: 1.8407 - val_AUC: 0.4998 - val_accuracy: 0.5136 - val_loss: 0.9771 - learning_rate: 6.1035e-09\n",
      "Epoch 42/60\n",
      "\u001b[1m291/291\u001b[0m \u001b[32m━━━━━━━━━━━━━━━━━━━━\u001b[0m\u001b[37m\u001b[0m \u001b[1m1s\u001b[0m 3ms/step - AUC: 0.5122 - accuracy: 0.4950 - loss: 1.8724 - val_AUC: 0.4986 - val_accuracy: 0.5136 - val_loss: 0.9759 - learning_rate: 6.1035e-09\n",
      "Epoch 43/60\n",
      "\u001b[1m276/291\u001b[0m \u001b[32m━━━━━━━━━━━━━━━━━━\u001b[0m\u001b[37m━━\u001b[0m \u001b[1m0s\u001b[0m 2ms/step - AUC: 0.5083 - accuracy: 0.5070 - loss: 1.8534\n",
      "Epoch 43: ReduceLROnPlateau reducing learning rate to 3.051757735406113e-09.\n",
      "\u001b[1m291/291\u001b[0m \u001b[32m━━━━━━━━━━━━━━━━━━━━\u001b[0m\u001b[37m\u001b[0m \u001b[1m1s\u001b[0m 3ms/step - AUC: 0.5083 - accuracy: 0.5065 - loss: 1.8539 - val_AUC: 0.4984 - val_accuracy: 0.5136 - val_loss: 0.9770 - learning_rate: 6.1035e-09\n",
      "Epoch 44/60\n",
      "\u001b[1m291/291\u001b[0m \u001b[32m━━━━━━━━━━━━━━━━━━━━\u001b[0m\u001b[37m\u001b[0m \u001b[1m1s\u001b[0m 3ms/step - AUC: 0.5230 - accuracy: 0.4976 - loss: 1.8350 - val_AUC: 0.4982 - val_accuracy: 0.5136 - val_loss: 0.9777 - learning_rate: 3.0518e-09\n",
      "Epoch 45/60\n",
      "\u001b[1m291/291\u001b[0m \u001b[32m━━━━━━━━━━━━━━━━━━━━\u001b[0m\u001b[37m\u001b[0m \u001b[1m1s\u001b[0m 3ms/step - AUC: 0.5241 - accuracy: 0.5010 - loss: 1.8350 - val_AUC: 0.4973 - val_accuracy: 0.5136 - val_loss: 0.9774 - learning_rate: 3.0518e-09\n",
      "Epoch 46/60\n",
      "\u001b[1m277/291\u001b[0m \u001b[32m━━━━━━━━━━━━━━━━━━━\u001b[0m\u001b[37m━\u001b[0m \u001b[1m0s\u001b[0m 2ms/step - AUC: 0.5149 - accuracy: 0.4978 - loss: 1.8527\n",
      "Epoch 46: ReduceLROnPlateau reducing learning rate to 1.5258788677030566e-09.\n",
      "\u001b[1m291/291\u001b[0m \u001b[32m━━━━━━━━━━━━━━━━━━━━\u001b[0m\u001b[37m\u001b[0m \u001b[1m1s\u001b[0m 3ms/step - AUC: 0.5143 - accuracy: 0.4979 - loss: 1.8537 - val_AUC: 0.4988 - val_accuracy: 0.5136 - val_loss: 0.9760 - learning_rate: 3.0518e-09\n",
      "Epoch 47/60\n",
      "\u001b[1m291/291\u001b[0m \u001b[32m━━━━━━━━━━━━━━━━━━━━\u001b[0m\u001b[37m\u001b[0m \u001b[1m1s\u001b[0m 3ms/step - AUC: 0.5131 - accuracy: 0.5005 - loss: 1.8569 - val_AUC: 0.4991 - val_accuracy: 0.5136 - val_loss: 0.9733 - learning_rate: 1.5259e-09\n",
      "Epoch 48/60\n",
      "\u001b[1m291/291\u001b[0m \u001b[32m━━━━━━━━━━━━━━━━━━━━\u001b[0m\u001b[37m\u001b[0m \u001b[1m1s\u001b[0m 3ms/step - AUC: 0.5026 - accuracy: 0.4998 - loss: 1.8717 - val_AUC: 0.4989 - val_accuracy: 0.5136 - val_loss: 0.9742 - learning_rate: 1.5259e-09\n",
      "Epoch 49/60\n",
      "\u001b[1m275/291\u001b[0m \u001b[32m━━━━━━━━━━━━━━━━━━\u001b[0m\u001b[37m━━\u001b[0m \u001b[1m0s\u001b[0m 2ms/step - AUC: 0.5074 - accuracy: 0.5053 - loss: 1.8640\n",
      "Epoch 49: ReduceLROnPlateau reducing learning rate to 7.629394338515283e-10.\n",
      "\u001b[1m291/291\u001b[0m \u001b[32m━━━━━━━━━━━━━━━━━━━━\u001b[0m\u001b[37m\u001b[0m \u001b[1m1s\u001b[0m 3ms/step - AUC: 0.5075 - accuracy: 0.5049 - loss: 1.8642 - val_AUC: 0.4995 - val_accuracy: 0.5136 - val_loss: 0.9784 - learning_rate: 1.5259e-09\n",
      "Epoch 50/60\n",
      "\u001b[1m291/291\u001b[0m \u001b[32m━━━━━━━━━━━━━━━━━━━━\u001b[0m\u001b[37m\u001b[0m \u001b[1m1s\u001b[0m 3ms/step - AUC: 0.5178 - accuracy: 0.4865 - loss: 1.8648 - val_AUC: 0.4991 - val_accuracy: 0.5136 - val_loss: 0.9778 - learning_rate: 7.6294e-10\n",
      "Epoch 51/60\n",
      "\u001b[1m291/291\u001b[0m \u001b[32m━━━━━━━━━━━━━━━━━━━━\u001b[0m\u001b[37m\u001b[0m \u001b[1m1s\u001b[0m 3ms/step - AUC: 0.5230 - accuracy: 0.4991 - loss: 1.8464 - val_AUC: 0.4979 - val_accuracy: 0.5136 - val_loss: 0.9755 - learning_rate: 7.6294e-10\n",
      "Epoch 52/60\n",
      "\u001b[1m276/291\u001b[0m \u001b[32m━━━━━━━━━━━━━━━━━━\u001b[0m\u001b[37m━━\u001b[0m \u001b[1m0s\u001b[0m 2ms/step - AUC: 0.5100 - accuracy: 0.5021 - loss: 1.8586\n",
      "Epoch 52: ReduceLROnPlateau reducing learning rate to 3.8146971692576415e-10.\n",
      "\u001b[1m291/291\u001b[0m \u001b[32m━━━━━━━━━━━━━━━━━━━━\u001b[0m\u001b[37m\u001b[0m \u001b[1m1s\u001b[0m 3ms/step - AUC: 0.5096 - accuracy: 0.5019 - loss: 1.8596 - val_AUC: 0.4986 - val_accuracy: 0.5136 - val_loss: 0.9750 - learning_rate: 7.6294e-10\n",
      "Epoch 53/60\n",
      "\u001b[1m291/291\u001b[0m \u001b[32m━━━━━━━━━━━━━━━━━━━━\u001b[0m\u001b[37m\u001b[0m \u001b[1m1s\u001b[0m 3ms/step - AUC: 0.5326 - accuracy: 0.4908 - loss: 1.8416 - val_AUC: 0.4994 - val_accuracy: 0.5136 - val_loss: 0.9757 - learning_rate: 3.8147e-10\n",
      "Epoch 54/60\n",
      "\u001b[1m291/291\u001b[0m \u001b[32m━━━━━━━━━━━━━━━━━━━━\u001b[0m\u001b[37m\u001b[0m \u001b[1m1s\u001b[0m 3ms/step - AUC: 0.5095 - accuracy: 0.5032 - loss: 1.8511 - val_AUC: 0.4990 - val_accuracy: 0.5136 - val_loss: 0.9763 - learning_rate: 3.8147e-10\n",
      "Epoch 55/60\n",
      "\u001b[1m281/291\u001b[0m \u001b[32m━━━━━━━━━━━━━━━━━━━\u001b[0m\u001b[37m━\u001b[0m \u001b[1m0s\u001b[0m 2ms/step - AUC: 0.5126 - accuracy: 0.5055 - loss: 1.8512\n",
      "Epoch 55: ReduceLROnPlateau reducing learning rate to 1.9073485846288207e-10.\n",
      "\u001b[1m291/291\u001b[0m \u001b[32m━━━━━━━━━━━━━━━━━━━━\u001b[0m\u001b[37m\u001b[0m \u001b[1m1s\u001b[0m 3ms/step - AUC: 0.5126 - accuracy: 0.5052 - loss: 1.8515 - val_AUC: 0.4979 - val_accuracy: 0.5136 - val_loss: 0.9752 - learning_rate: 3.8147e-10\n",
      "Epoch 56/60\n",
      "\u001b[1m291/291\u001b[0m \u001b[32m━━━━━━━━━━━━━━━━━━━━\u001b[0m\u001b[37m\u001b[0m \u001b[1m1s\u001b[0m 3ms/step - AUC: 0.5012 - accuracy: 0.5095 - loss: 1.8580 - val_AUC: 0.4990 - val_accuracy: 0.5136 - val_loss: 0.9760 - learning_rate: 1.9073e-10\n",
      "Epoch 57/60\n",
      "\u001b[1m291/291\u001b[0m \u001b[32m━━━━━━━━━━━━━━━━━━━━\u001b[0m\u001b[37m\u001b[0m \u001b[1m1s\u001b[0m 3ms/step - AUC: 0.5108 - accuracy: 0.5044 - loss: 1.8542 - val_AUC: 0.4981 - val_accuracy: 0.5136 - val_loss: 0.9783 - learning_rate: 1.9073e-10\n",
      "Epoch 58/60\n",
      "\u001b[1m282/291\u001b[0m \u001b[32m━━━━━━━━━━━━━━━━━━━\u001b[0m\u001b[37m━\u001b[0m \u001b[1m0s\u001b[0m 2ms/step - AUC: 0.5046 - accuracy: 0.4905 - loss: 1.8750\n",
      "Epoch 58: ReduceLROnPlateau reducing learning rate to 9.536742923144104e-11.\n",
      "\u001b[1m291/291\u001b[0m \u001b[32m━━━━━━━━━━━━━━━━━━━━\u001b[0m\u001b[37m\u001b[0m \u001b[1m1s\u001b[0m 3ms/step - AUC: 0.5047 - accuracy: 0.4908 - loss: 1.8747 - val_AUC: 0.4991 - val_accuracy: 0.5136 - val_loss: 0.9757 - learning_rate: 1.9073e-10\n",
      "Epoch 59/60\n",
      "\u001b[1m291/291\u001b[0m \u001b[32m━━━━━━━━━━━━━━━━━━━━\u001b[0m\u001b[37m\u001b[0m \u001b[1m1s\u001b[0m 3ms/step - AUC: 0.5055 - accuracy: 0.4951 - loss: 1.8719 - val_AUC: 0.4982 - val_accuracy: 0.5136 - val_loss: 0.9753 - learning_rate: 9.5367e-11\n",
      "Epoch 60/60\n",
      "\u001b[1m291/291\u001b[0m \u001b[32m━━━━━━━━━━━━━━━━━━━━\u001b[0m\u001b[37m\u001b[0m \u001b[1m1s\u001b[0m 3ms/step - AUC: 0.5236 - accuracy: 0.5060 - loss: 1.8305 - val_AUC: 0.4995 - val_accuracy: 0.5136 - val_loss: 0.9760 - learning_rate: 9.5367e-11\n",
      "\u001b[1m73/73\u001b[0m \u001b[32m━━━━━━━━━━━━━━━━━━━━\u001b[0m\u001b[37m\u001b[0m \u001b[1m0s\u001b[0m 1ms/step\n",
      "F1 Score: 0.6786\n",
      "              precision    recall  f1-score   support\n",
      "\n",
      "           0       0.00      0.00      0.00      1130\n",
      "           1       0.51      1.00      0.68      1193\n",
      "\n",
      "    accuracy                           0.51      2323\n",
      "   macro avg       0.26      0.50      0.34      2323\n",
      "weighted avg       0.26      0.51      0.35      2323\n",
      "\n"
     ]
    },
    {
     "name": "stderr",
     "output_type": "stream",
     "text": [
      "/Users/vaishtaruni/anaconda3/envs/vaishML/lib/python3.12/site-packages/sklearn/metrics/_classification.py:1565: UndefinedMetricWarning: Precision is ill-defined and being set to 0.0 in labels with no predicted samples. Use `zero_division` parameter to control this behavior.\n",
      "  _warn_prf(average, modifier, f\"{metric.capitalize()} is\", len(result))\n",
      "/Users/vaishtaruni/anaconda3/envs/vaishML/lib/python3.12/site-packages/sklearn/metrics/_classification.py:1565: UndefinedMetricWarning: Precision is ill-defined and being set to 0.0 in labels with no predicted samples. Use `zero_division` parameter to control this behavior.\n",
      "  _warn_prf(average, modifier, f\"{metric.capitalize()} is\", len(result))\n",
      "/Users/vaishtaruni/anaconda3/envs/vaishML/lib/python3.12/site-packages/sklearn/metrics/_classification.py:1565: UndefinedMetricWarning: Precision is ill-defined and being set to 0.0 in labels with no predicted samples. Use `zero_division` parameter to control this behavior.\n",
      "  _warn_prf(average, modifier, f\"{metric.capitalize()} is\", len(result))\n"
     ]
    },
    {
     "data": {
      "image/png": "[encoded data removed]",
      "text/plain": [
       "<Figure size 800x600 with 1 Axes>"
      ]
     },
     "metadata": {},
     "output_type": "display_data"
    }
   ],
   "source": [
    "import numpy as np\n",
    "import pandas as pd\n",
    "from tensorflow.keras.models import Sequential\n",
    "from tensorflow.keras.layers import Dense, Dropout, BatchNormalization, LeakyReLU\n",
    "from tensorflow.keras.optimizers import Adam\n",
    "from tensorflow.keras.callbacks import EarlyStopping, ReduceLROnPlateau\n",
    "from sklearn.metrics import f1_score, roc_curve, auc, classification_report\n",
    "import matplotlib.pyplot as plt\n",
    "\n",
    "# Class weight tuning (you can use sklearn's compute_class_weight for more precision)\n",
    "class_weights = {0: 1., 1: 10.}  # Try reducing from 20 to 10 for more stability\n",
    "\n",
    "# Build the model\n",
    "model = Sequential()\n",
    "model.add(Dense(256, input_shape=(X_train.shape[1],)))  # More neurons in first layer\n",
    "model.add(BatchNormalization())  # Helps with convergence\n",
    "model.add(LeakyReLU(alpha=0.01))\n",
    "model.add(Dropout(0.5))  # Slightly higher dropout to reduce overfitting\n",
    "\n",
    "model.add(Dense(128))\n",
    "model.add(BatchNormalization())\n",
    "model.add(LeakyReLU(alpha=0.01))\n",
    "model.add(Dropout(0.4))\n",
    "\n",
    "model.add(Dense(64))\n",
    "model.add(LeakyReLU(alpha=0.01))\n",
    "model.add(Dropout(0.3))  # Slightly less dropout deeper into the network\n",
    "\n",
    "model.add(Dense(1, activation='sigmoid'))\n",
    "\n",
    "# Compile the model\n",
    "model.compile(\n",
    "    optimizer=Adam(learning_rate=5e-5),  # Lowered LR for better convergence\n",
    "    loss='binary_crossentropy',\n",
    "    metrics=['accuracy', 'AUC']\n",
    ")\n",
    "\n",
    "from tensorflow.keras.callbacks import EarlyStopping, ReduceLROnPlateau\n",
    "\n",
    "early_stop = EarlyStopping(\n",
    "    monitor='val_auc',       # Stop when validation AUC stops improving\n",
    "    mode='max',              # Because higher AUC is better\n",
    "    patience=5,              # Wait 5 epochs with no improvement\n",
    "    restore_best_weights=True,\n",
    "    verbose=1\n",
    ")\n",
    "\n",
    "reduce_lr = ReduceLROnPlateau(\n",
    "    monitor='val_loss',\n",
    "    factor=0.5,\n",
    "    patience=3,\n",
    "    verbose=1\n",
    ")\n",
    "\n",
    "\n",
    "# Train the model\n",
    "history = model.fit(\n",
    "    X_train, y_train,\n",
    "    validation_data=(X_test, y_test),\n",
    "    epochs=60,\n",
    "    batch_size=32,\n",
    "    callbacks=[early_stop, reduce_lr],\n",
    "    class_weight=class_weights,\n",
    "    verbose=1\n",
    ")\n",
    "\n",
    "# Predict\n",
    "y_prob = model.predict(X_test).ravel()\n",
    "y_pred = (y_prob > 0.5).astype(\"int32\")\n",
    "\n",
    "# Evaluation\n",
    "f1 = f1_score(y_test, y_pred)\n",
    "print(f\"F1 Score: {f1:.4f}\")\n",
    "print(classification_report(y_test, y_pred))\n",
    "\n",
    "# ROC Curve\n",
    "fpr, tpr, _ = roc_curve(y_test, y_prob)\n",
    "roc_auc = auc(fpr, tpr)\n",
    "\n",
    "# Plot\n",
    "plt.figure(figsize=(8, 6))\n",
    "plt.plot(fpr, tpr, label=f\"AUC = {roc_auc:.2f}\", color=\"darkorange\", lw=2)\n",
    "plt.plot([0, 1], [0, 1], linestyle=\"--\", color=\"navy\")\n",
    "plt.xlabel(\"False Positive Rate\")\n",
    "plt.ylabel(\"True Positive Rate\")\n",
    "plt.title(\"ROC Curve\")\n",
    "plt.legend()\n",
    "plt.grid(True)\n",
    "plt.show()\n"
   ]
  },
  {
   "cell_type": "markdown",
   "metadata": {},
   "source": [
    "## Bagging - with top 3 performing models"
   ]
  },
  {
   "cell_type": "markdown",
   "metadata": {},
   "source": [
    "## Boosting - Gradient Boosting "
   ]
  },
  {
   "cell_type": "markdown",
   "metadata": {},
   "source": [
    "# ROC Curve Analysis"
   ]
  },
  {
   "cell_type": "markdown",
   "metadata": {},
   "source": [
    "## Graphing"
   ]
  },
  {
   "cell_type": "markdown",
   "metadata": {},
   "source": [
    "## Analyzing"
   ]
  },
  {
   "cell_type": "markdown",
   "metadata": {},
   "source": [
    "# Evaluation Functions"
   ]
  },
  {
   "cell_type": "markdown",
   "metadata": {},
   "source": [
    "## Confusion Matrix"
   ]
  },
  {
   "cell_type": "markdown",
   "metadata": {},
   "source": [
    "## F-1 Precision Recall"
   ]
  },
  {
   "cell_type": "markdown",
   "metadata": {},
   "source": []
  },
  {
   "cell_type": "code",
   "execution_count": 55,
   "metadata": {},
   "outputs": [
    {
     "name": "stdout",
     "output_type": "stream",
     "text": [
      "(array([0, 1]), array([4657, 4635]))\n",
      "(array([0, 1]), array([1130, 1193]))\n"
     ]
    }
   ],
   "source": [
    "print(np.unique(y_train, return_counts=True))\n",
    "print(np.unique(y_test, return_counts=True))\n"
   ]
  },
  {
   "cell_type": "code",
   "execution_count": null,
   "metadata": {},
   "outputs": [],
   "source": []
  }
 ],
 "metadata": {
  "kernelspec": {
   "display_name": "Python 3.12.0 ('vaishML')",
   "language": "python",
   "name": "python3"
  },
  "language_info": {
   "codemirror_mode": {
    "name": "ipython",
    "version": 3
   },
   "file_extension": ".py",
   "mimetype": "text/x-python",
   "name": "python",
   "nbconvert_exporter": "python",
   "pygments_lexer": "ipython3",
   "version": "3.12.0"
  },
  "orig_nbformat": 4,
  "vscode": {
   "interpreter": {
    "hash": "0d8203102ed19e7c951429071dd4d6eff4455ac56734d00d4148b72b03c39803"
   }
  }
 },
 "nbformat": 4,
 "nbformat_minor": 2
}
